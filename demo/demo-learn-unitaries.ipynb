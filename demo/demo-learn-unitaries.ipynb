{
 "cells": [
  {
   "cell_type": "code",
   "execution_count": 3,
   "id": "31a447a8",
   "metadata": {},
   "outputs": [],
   "source": [
    "using Bloqade\n",
    "using Distributions\n",
    "using LegendrePolynomials\n",
    "using PythonCall\n",
    "using LinearAlgebra\n",
    "using Printf\n",
    "\n",
    "include(\"../src/BloqadeControl.jl\")\n",
    "using .BloqadeControl"
   ]
  },
  {
   "cell_type": "code",
   "execution_count": null,
   "id": "8534d0a9",
   "metadata": {},
   "outputs": [],
   "source": [
    "# Specify parametrization of waveforms\n",
    "n_sites = 2\n",
    "basis = \"legendre\"\n",
    "n_basis = 20\n",
    "use_sigmoid_envolope = true\n",
    "tf = 1.0\n",
    "F0 = [(x)->0.,(x)->0.]\n",
    "\n",
    "# Specify training parameters\n",
    "params = 6. * rand(Float64, (2, n_basis)) .- 3.\n",
    "#params = ones(Float64, (2, n_basis))\n",
    "lr = 5e-3\n",
    "w_l2 = 1e-3\n",
    "n_epochs = 2000\n",
    "method = \"adam\"\n",
    "\n",
    "# Specify parameters of Rydberg atoms\n",
    "distance = 4\n",
    "atoms = generate_sites(ChainLattice(), n_sites, scale=distance);\n",
    "local_detuning = [-1, 1]\n",
    "global_detuning = 0.0\n",
    "n_samples = 20"
   ]
  },
  {
   "cell_type": "code",
   "execution_count": null,
   "id": "bdd23438",
   "metadata": {},
   "outputs": [],
   "source": [
    "# Specify initial & target state\n",
    "ket00 = Array{ComplexF64}([1, 0, 0, 0])\n",
    "ket01 = Array{ComplexF64}([0, 1, 0, 0])\n",
    "ket10 = Array{ComplexF64}([0, 0, 1, 0])\n",
    "ket11 = Array{ComplexF64}([0, 0, 0, 1])\n",
    "\n",
    "init_states = [ket00, ket01, ket10]\n",
    "target_states = [ket00, ket01, ket11]\n",
    "observables = []\n",
    "\n",
    "for idx in 1:length(target_states)\n",
    "    target_state = ArrayReg(target_states[idx]; nlevel=2)\n",
    "    J = UniformScaling(1.)\n",
    "    tar_op = density_matrix(target_state).state\n",
    "    M = GeneralMatrixBlock(J-tar_op; nlevel=2)\n",
    "    append!(observables, [M])\n",
    "end"
   ]
  },
  {
   "cell_type": "code",
   "execution_count": null,
   "id": "ec69c8c6",
   "metadata": {},
   "outputs": [],
   "source": [
    "# Setup optimizer\n",
    "generator = WaveformGenerator(n_sites, basis, n_basis, use_sigmoid_envolope, F0, tf)\n",
    "model = BloqadeModel(atoms, local_detuning, global_detuning, n_samples, init_states, observables);\n",
    "optim = Optimizer(params, lr, w_l2, n_epochs, method)"
   ]
  },
  {
   "cell_type": "code",
   "execution_count": null,
   "id": "91ef6388",
   "metadata": {},
   "outputs": [],
   "source": [
    "# Start training\n",
    "update_waveform!(model, generator, optim.params)\n",
    "@printf \"Current loss function value is %.3f.\\n\" compute_loss(model, generator, optim)\n",
    "\n",
    "train_loss!(model, generator, optim)"
   ]
  }
 ],
 "metadata": {
  "kernelspec": {
   "display_name": "Julia 1.7.3",
   "language": "julia",
   "name": "julia-1.7"
  },
  "language_info": {
   "file_extension": ".jl",
   "mimetype": "application/julia",
   "name": "julia",
   "version": "1.7.3"
  }
 },
 "nbformat": 4,
 "nbformat_minor": 5
}
